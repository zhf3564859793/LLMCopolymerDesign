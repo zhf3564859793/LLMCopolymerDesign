{
 "cells": [
  {
   "cell_type": "code",
   "execution_count": 1,
   "metadata": {},
   "outputs": [],
   "source": [
    "import requests\n",
    "import json\n",
    "\n",
    "def get_file_content(filePath):\n",
    "    with open(filePath, 'rb') as fp:\n",
    "        return fp.read()\n",
    "\n",
    "class TextinOcr(object):\n",
    "    def __init__(self, app_id, app_secret):\n",
    "        self._app_id = app_id\n",
    "        self._app_secret = app_secret\n",
    "        self.host = 'https://api.textin.com'\n",
    "\n",
    "    def recognize_pdf2md(self, image, options):\n",
    "        \"\"\"\n",
    "        pdf to markdown\n",
    "        :param options: request params\n",
    "        :param image: file bytes\n",
    "        :return: response\n",
    "\n",
    "        options = {\n",
    "            'pdf_pwd': None,\n",
    "            'dpi': 72,\n",
    "            'page_start': 0,\n",
    "            'page_count': 24,\n",
    "            'apply_document_tree': 0,\n",
    "            'markdown_details': 0,\n",
    "            'table_flavor': 'md',\n",
    "            'get_image': 'none',\n",
    "            'parse_mode': 'auto',\n",
    "        }\n",
    "        \"\"\"\n",
    "        url = self.host + '/ai/service/v1/pdf_to_markdown'\n",
    "        headers = {\n",
    "            'x-ti-app-id': self._app_id,\n",
    "            'x-ti-secret-code': self._app_secret\n",
    "        }\n",
    "\n",
    "        return requests.post(url, data=image, headers=headers, params=options)\n",
    "\n",
    "def write_file(markdown_result, filepath = 'test.md'):\n",
    "    f = open(filepath, 'w', encoding='utf-8')\n",
    "    f.write(markdown_result)\n",
    "    f.close()"
   ]
  },
  {
   "cell_type": "code",
   "execution_count": null,
   "metadata": {},
   "outputs": [
    {
     "name": "stdout",
     "output_type": "stream",
     "text": [
      "copolymer_pdf_new\\151.pdf\n",
      "request time:  2.510867\n"
     ]
    }
   ],
   "source": [
    "### Please add your Textin API key here ###\n",
    "textin = TextinOcr('xxxxxxxx', 'xxxxxxxx')\n",
    "import os\n",
    "for i in range(0, 394):\n",
    "    file_path = os.path.join('copolymer_pdf', f'{str(i).zfill(3)}.pdf')\n",
    "    print(file_path)\n",
    "    image = get_file_content(file_path)\n",
    "    resp = textin.recognize_pdf2md(image, {\n",
    "            'page_start': 0,\n",
    "            'page_count': 15,\n",
    "            'table_flavor': 'md',\n",
    "            'parse_mode': 'auto',\n",
    "        })\n",
    "    print(\"request time: \", resp.elapsed.total_seconds())\n",
    "\n",
    "    json_data = json.loads(resp.text)\n",
    "    write_file(json_data['result']['markdown'], f'{str(i).zfill(3)}.md') \n",
    "    "
   ]
  },
  {
   "cell_type": "code",
   "execution_count": 15,
   "metadata": {},
   "outputs": [],
   "source": [
    "with open('210.md', 'rb') as f:\n",
    "    md210=f.read()"
   ]
  }
 ],
 "metadata": {
  "kernelspec": {
   "display_name": "mygpt",
   "language": "python",
   "name": "python3"
  },
  "language_info": {
   "codemirror_mode": {
    "name": "ipython",
    "version": 3
   },
   "file_extension": ".py",
   "mimetype": "text/x-python",
   "name": "python",
   "nbconvert_exporter": "python",
   "pygments_lexer": "ipython3",
   "version": "3.9.19"
  }
 },
 "nbformat": 4,
 "nbformat_minor": 2
}
