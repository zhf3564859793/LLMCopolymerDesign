{
 "cells": [
  {
   "cell_type": "code",
   "execution_count": 9,
   "metadata": {},
   "outputs": [],
   "source": [
    "from openai import OpenAI"
   ]
  },
  {
   "cell_type": "code",
   "execution_count": null,
   "metadata": {},
   "outputs": [],
   "source": [
    "### Please add your OpenAI or other LLM API key here ###\n",
    "api_key = 'your_api_key_here'"
   ]
  },
  {
   "cell_type": "code",
   "execution_count": 11,
   "metadata": {},
   "outputs": [
    {
     "data": {
      "text/plain": [
       "'# Ethylene-vinyl acetate copolymer\\n\\nPING XU\\n\\nACRONYMS, TRADE NAMES EVA;$A-C^{B}$.(Allied Signal); Elvax® (DuPont); Levapren (Bayer); Microthene®, Spectratech®, Ultrathene® (Quantum Chemical); Modic®,Novatec® (Mitsubishi Kasei); PDX® (LNP)\\n\\nCLASS Chemical copolymers\\n\\nSTRUCTURE $CH_{2}-$\\n\\n()\\n\\n-\\n\\n$H_{3}$\\n\\nMAJOR APPLICATIONS Film extrusion, packaging, wire and cable insulation,adhesives, coatings, and compounding.\\n\\nPROPERTIS OF SPECIAL INTEREST Flexibility and toughness, good adhesion,and stress crack resistance.\\n\\n\\n| PROPERTY U | NITS | CONDITIONS* | VALUE | REFERENCE |\\n| -- | -- | -- | -- | -- |\\n| Linear thermal $K^{-1}$expansion coefficient |  | ASTM D696, no composition given | $16-25\\\\times10^{-5}$ | (1) |\\n| Density $gcm^{-3}$ |  | ASTM D792, 9-28% vinyl acetate | 0.93-0.95 | (2) |\\n| Solubility parameter ( | MPa)1/2 | Halogenated aliphatic and aromatic liquids,20℃ |  | (3) |\\n| Solubility parameter ( | MPa)1/2 | 30% vinyl acetate | 19.0 |  |\\n| Solubility parameter ( | MPa)1/2 | 40% vinyl acetate | 19.2 |  |\\n| Solubility parameter ( | MPa)1/2 | 67% vinyl acetate | 19.0 |  |\\n| Solubility parameter ( | MPa)1/2 | Halogenated aliphatic and aromatic liquids,30℃ |  |  |\\n| Solubility parameter ( | MPa)1/2 | 30% vinyl acetate | 18.8 |  |\\n| Solubility parameter ( | MPa)1/2 | 40% vinyl acetate | 18.9 |  |\\n| Solubility parameter ( | MPa)1/2 | 67% vinyl acetate | 18.9 |  |\\n| Interaction parameter x - |  | 29% vinyl acetate, 150°C,inverse GC,infinite solution |  | (4,5) |\\n| Interaction parameter x - |  | Acetaldehyde | 0.16 |  |\\n| Interaction parameter x - |  | Acetic acid | 1.12 |  |\\n| Interaction parameter x - |  | Benzene | -0.02 |  |\\n| Interaction parameter x - |  | 1-Butanol | 0.65 |  |\\n| Interaction parameter x - |  | 2-Butanol | 0.51 |  |\\n| Interaction parameter x - |  | Cyclohexane | 0.07 |  |\\n| Interaction parameter x - |  |  |  |  |\\n\\n\\nEthylene-vinyl acetate copolymer\\n\\n\\n| PROPERTY | UNITS | CONDITIONS* | VALUE | REFERENCE |\\n| -- | -- | -- | -- | -- |\\n| Interaction parameter xGlass transition | -KK | Dioxane | 0.45 |  |\\n| Interaction parameter xGlass transition | -KK | Ethanol | 1.28 |  |\\n| Interaction parameter xGlass transition | -KK | Hexane | 0.25 |  |\\n| Interaction parameter xGlass transition | -KK | Methanol | 1.69 |  |\\n| Interaction parameter xGlass transition | -KK | Octane | 0.23 |  |\\n| Interaction parameter xGlass transition | -KK | 2-Propanol | 0.93 |  |\\n| Interaction parameter xGlass transition | -KK | Tetrahydrofuran | 0.25 |  |\\n| Interaction parameter xGlass transition | -KK | m-Xylene | -0.02 |  |\\n| Interaction parameter xGlass transition | -KK | $30\\\\%V\\\\inyla\\\\cote,M_{n}=27,000gmol^{-1},$ | 231 | (3) |\\n| temperature | -KK | $M_{w}=110,000gmol^{-1}$$40\\\\%Vinylactate,M_{n}=25,000gmol^{-1},$$M_{w}=130,000gmol^{-1}$ | 235 |  |\\n| Melting pointBl | -KK | $30\\\\%V\\\\inylacetate,M_{n}=27,000gmol^{-1}$ | 345 | (3) |\\n| Melting pointBl |  | $M_{w}=110,000gmol^{-1}$$40\\\\%Vinylactate,M_{n}=25,000gmol^{-1},$$M_{w}=130,000gmol^{-1}$ | 318 |  |\\n| Melting pointBl | ritteness temperature K | ASTM  |  | (2 |\\n|  | ritteness temperature K | D7469% viny acetate, melt ind$1ex=2.2g/10\\\\min$ | &lt;197 | ) |\\n|  | ritteness temperature K | 9% vinyl acetate, melt index:$k=9.8g/10\\\\min$ | $<197$ |  |\\n|  | ritteness temperature K | 15% vinyl acetate, melt index = 8.2g/10 min | &lt;197 |  |\\n|  | ritteness temperature K | 15% vinyl acetate, melt index = 30g/10 min | &lt;197 |  |\\n|  | ritteness temperature K | 18% vinyl acetate, melt index = 1.5g/10 min | &lt;197 |  |\\n|  | ritteness temperature K | 18% vinyl acetate, melt index = 30g/10 min | &lt;197 |  |\\n|  | ritteness temperature K | 19% vinyl acetate, melt index = 0.45g/10 min | &lt;197 |  |\\n| Vicat softeningtemperature | K | 19% vinyl acetate, melt index = 30g/10 min | $<197$ |  |\\n| Vicat softeningtemperature | K | 28% vinyl acetate, melt index =3.1g/10min | $<197$ |  |\\n| Vicat softeningtemperature | K | ASTM D1525, ring and ball method |  | (2) |\\n| Vicat softeningtemperature | K | 9% vinyl acetate, melt index =2.2g/10 min | 356 |  |\\n| Vicat softeningtemperature | K | 9% vinyl acetate, melt index=9.8g/10min | 348 |  |\\n| Vicat softeningtemperature | K | 15% vinyl acetate, melt index = 8.2g/10 min | 339 |  |\\n| Vicat softeningtemperature | K | 15% vinyl acetate, melt index = 30g/10 min | 334 |  |\\n| Vicat softeningtemperature | K | 18% vinyl acetate, melt index = 1.5g/10 min | 334 |  |\\n| Vicat softeningtemperature | K | 18% vinyl acetate melt index = 30g/10 min | 327 |  |\\n| Vicat softeningtemperature | K | ,19% vinyl acetate, melt index = 0.45g/10 min | 335 |  |\\n| Vicat softeningtemperature | K | 19% vinyl acetate, melt index = 30g/10 min | 331 |  |\\n| Tensile strength atbreak | MPa | 28% vinyl acetate, melt inde$2x=3.1g$/10min | 322 |  |\\n| Tensile strength atbreak | MPa | ASTM D638 |  | (2) |\\n| Tensile strength atbreak | MPa | 9% vinyl acetate, melt ind$ex=2.2g/10\\\\min$ | 13.9 |  |\\n| Tensile strength atbreak | MPa | 9% vinyl acetate, melt index$=9.8g/10\\\\min$$\\\\checkmark$ | 11.7 |  |\\n| Tensile strength atbreak | MPa | 15% vinyl acetate, melt ind$\\\\exp=8.2g/10\\\\min$ | 12.8 |  |\\n| Tensile strength atbreak | MPa | 15% vinyl acetate, melt index = 30g/10 min | 10.4 |  |\\n|  | MPa | 18% vinyl acetate, melt index = 1.5g/10 min | 13.5 |  |\\n\\n\\n'"
      ]
     },
     "execution_count": 11,
     "metadata": {},
     "output_type": "execute_result"
    }
   ],
   "source": [
    "with open(r'textinpdf2md\\001.md', 'r', encoding='utf-8') as f:\n",
    "        text=f.read()\n",
    "text"
   ]
  },
  {
   "cell_type": "code",
   "execution_count": 12,
   "metadata": {},
   "outputs": [
    {
     "name": "stdout",
     "output_type": "stream",
     "text": [
      "Start to analyze paper001\n"
     ]
    },
    {
     "data": {
      "text/plain": [
       "'# Ethylene-vinyl acetate copolymer\\n\\nPING XU\\n\\nACRONYMS, TRADE NAMES EVA;$A-C^{B}$.(Allied Signal); Elvax® (DuPont); Levapren (Bayer); Microthene®, Spectratech®, Ultrathene® (Quantum Chemical); Modic®,Novatec® (Mitsubishi Kasei); PDX® (LNP)\\n\\nCLASS Chemical copolymers\\n\\nSTRUCTURE $CH_{2}-$\\n\\n()\\n\\n-\\n\\n$H_{3}$\\n\\nMAJOR APPLICATIONS Film extrusion, packaging, wire and cable insulation,adhesives, coatings, and compounding.\\n\\nPROPERTIS OF SPECIAL INTEREST Flexibility and toughness, good adhesion,and stress crack resistance.\\n\\n\\n| PROPERTY U | NITS | CONDITIONS* | VALUE | REFERENCE |\\n| -- | -- | -- | -- | -- |\\n| Linear thermal $K^{-1}$expansion coefficient |  | ASTM D696, no composition given | $16-25\\\\times10^{-5}$ | (1) |\\n| Density $gcm^{-3}$ |  | ASTM D792, 9-28% vinyl acetate | 0.93-0.95 | (2) |\\n| Solubility parameter ( | MPa)1/2 | Halogenated aliphatic and aromatic liquids,20℃ |  | (3) |\\n| Solubility parameter ( | MPa)1/2 | 30% vinyl acetate | 19.0 |  |\\n| Solubility parameter ( | MPa)1/2 | 40% vinyl acetate | 19.2 |  |\\n| Solubility parameter ( | MPa)1/2 | 67% vinyl acetate | 19.0 |  |\\n| Solubility parameter ( | MPa)1/2 | Halogenated aliphatic and aromatic liquids,30℃ |  |  |\\n| Solubility parameter ( | MPa)1/2 | 30% vinyl acetate | 18.8 |  |\\n| Solubility parameter ( | MPa)1/2 | 40% vinyl acetate | 18.9 |  |\\n| Solubility parameter ( | MPa)1/2 | 67% vinyl acetate | 18.9 |  |\\n| Interaction parameter x - |  | 29% vinyl acetate, 150°C,inverse GC,infinite solution |  | (4,5) |\\n| Interaction parameter x - |  | Acetaldehyde | 0.16 |  |\\n| Interaction parameter x - |  | Acetic acid | 1.12 |  |\\n| Interaction parameter x - |  | Benzene | -0.02 |  |\\n| Interaction parameter x - |  | 1-Butanol | 0.65 |  |\\n| Interaction parameter x - |  | 2-Butanol | 0.51 |  |\\n| Interaction parameter x - |  | Cyclohexane | 0.07 |  |\\n| Interaction parameter x - |  |  |  |  |\\n\\n\\nEthylene-vinyl acetate copolymer\\n\\n\\n| PROPERTY | UNITS | CONDITIONS* | VALUE | REFERENCE |\\n| -- | -- | -- | -- | -- |\\n| Interaction parameter xGlass transition | -KK | Dioxane | 0.45 |  |\\n| Interaction parameter xGlass transition | -KK | Ethanol | 1.28 |  |\\n| Interaction parameter xGlass transition | -KK | Hexane | 0.25 |  |\\n| Interaction parameter xGlass transition | -KK | Methanol | 1.69 |  |\\n| Interaction parameter xGlass transition | -KK | Octane | 0.23 |  |\\n| Interaction parameter xGlass transition | -KK | 2-Propanol | 0.93 |  |\\n| Interaction parameter xGlass transition | -KK | Tetrahydrofuran | 0.25 |  |\\n| Interaction parameter xGlass transition | -KK | m-Xylene | -0.02 |  |\\n| Interaction parameter xGlass transition | -KK | $30\\\\%V\\\\inyla\\\\cote,M_{n}=27,000gmol^{-1},$ | 231 | (3) |\\n| temperature | -KK | $M_{w}=110,000gmol^{-1}$$40\\\\%Vinylactate,M_{n}=25,000gmol^{-1},$$M_{w}=130,000gmol^{-1}$ | 235 |  |\\n| Melting pointBl | -KK | $30\\\\%V\\\\inylacetate,M_{n}=27,000gmol^{-1}$ | 345 | (3) |\\n| Melting pointBl |  | $M_{w}=110,000gmol^{-1}$$40\\\\%Vinylactate,M_{n}=25,000gmol^{-1},$$M_{w}=130,000gmol^{-1}$ | 318 |  |\\n| Melting pointBl | ritteness temperature K | ASTM  |  | (2 |\\n|  | ritteness temperature K | D7469% viny acetate, melt ind$1ex=2.2g/10\\\\min$ | &lt;197 | ) |\\n|  | ritteness temperature K | 9% vinyl acetate, melt index:$k=9.8g/10\\\\min$ | $<197$ |  |\\n|  | ritteness temperature K | 15% vinyl acetate, melt index = 8.2g/10 min | &lt;197 |  |\\n|  | ritteness temperature K | 15% vinyl acetate, melt index = 30g/10 min | &lt;197 |  |\\n|  | ritteness temperature K | 18% vinyl acetate, melt index = 1.5g/10 min | &lt;197 |  |\\n|  | ritteness temperature K | 18% vinyl acetate, melt index = 30g/10 min | &lt;197 |  |\\n|  | ritteness temperature K | 19% vinyl acetate, melt index = 0.45g/10 min | &lt;197 |  |\\n| Vicat softeningtemperature | K | 19% vinyl acetate, melt index = 30g/10 min | $<197$ |  |\\n| Vicat softeningtemperature | K | 28% vinyl acetate, melt index =3.1g/10min | $<197$ |  |\\n| Vicat softeningtemperature | K | ASTM D1525, ring and ball method |  | (2) |\\n| Vicat softeningtemperature | K | 9% vinyl acetate, melt index =2.2g/10 min | 356 |  |\\n| Vicat softeningtemperature | K | 9% vinyl acetate, melt index=9.8g/10min | 348 |  |\\n| Vicat softeningtemperature | K | 15% vinyl acetate, melt index = 8.2g/10 min | 339 |  |\\n| Vicat softeningtemperature | K | 15% vinyl acetate, melt index = 30g/10 min | 334 |  |\\n| Vicat softeningtemperature | K | 18% vinyl acetate, melt index = 1.5g/10 min | 334 |  |\\n| Vicat softeningtemperature | K | 18% vinyl acetate melt index = 30g/10 min | 327 |  |\\n| Vicat softeningtemperature | K | ,19% vinyl acetate, melt index = 0.45g/10 min | 335 |  |\\n| Vicat softeningtemperature | K | 19% vinyl acetate, melt index = 30g/10 min | 331 |  |\\n| Tensile strength atbreak | MPa | 28% vinyl acetate, melt inde$2x=3.1g$/10min | 322 |  |\\n| Tensile strength atbreak | MPa | ASTM D638 |  | (2) |\\n| Tensile strength atbreak | MPa | 9% vinyl acetate, melt ind$ex=2.2g/10\\\\min$ | 13.9 |  |\\n| Tensile strength atbreak | MPa | 9% vinyl acetate, melt index$=9.8g/10\\\\min$$\\\\checkmark$ | 11.7 |  |\\n| Tensile strength atbreak | MPa | 15% vinyl acetate, melt ind$\\\\exp=8.2g/10\\\\min$ | 12.8 |  |\\n| Tensile strength atbreak | MPa | 15% vinyl acetate, melt index = 30g/10 min | 10.4 |  |\\n|  | MPa | 18% vinyl acetate, melt index = 1.5g/10 min | 13.5 |  |\\n\\n\\n'"
      ]
     },
     "execution_count": 12,
     "metadata": {},
     "output_type": "execute_result"
    }
   ],
   "source": [
    "import pandas as pd\n",
    "import os\n",
    "for i in range(1, 2):\n",
    "    file_path = os.path.join('textinpdf2md', f'{str(i).zfill(3)}.md')\n",
    "    print(\"Start to analyze paper\" + str(i).zfill(3))\n",
    "    with open(file_path, 'r', encoding='utf-8') as f:\n",
    "        text=f.read()\n",
    "text"
   ]
  },
  {
   "cell_type": "code",
   "execution_count": 3,
   "metadata": {},
   "outputs": [],
   "source": [
    "# from IPython.display import Markdown\n",
    "# Markdown(text)"
   ]
  },
  {
   "cell_type": "code",
   "execution_count": null,
   "metadata": {},
   "outputs": [],
   "source": [
    "import pandas as pd\n",
    "import os\n",
    "import time\n",
    "polymer_properties_list = []\n",
    "for i in range(1, 394):\n",
    "    file_path = os.path.join('textinpdf2md', f'{str(i).zfill(3)}.md')\n",
    "    print(\"Start to analyze paper\" + str(i).zfill(3))\n",
    "    with open(file_path, 'r', encoding='utf-8') as f:\n",
    "        text=f.read()\n",
    "    user_heading = text\n",
    "    user_ending = \"\"\"Q: Can you summarize the following details of copolymer in a table: \n",
    "            Copolymer name, Component_1_name,Component_2_name, Composition1_ratio,Composition2_ratio, Glass transition temperature and Melting temperature? \n",
    "            If any information is not provided or you are unsure, use \"Nan\". \n",
    "            Guidelines:\n",
    "            1. For the  Composition_ratio, you may need to calculate the ratio based on the information provided in the paper, \n",
    "            and expressed as %. And if experimental ratio(for example:obsd ratio,X (found)%...) is provided(for example, provided by 1H-NMR, n.m.r.,...), you should use the  experimental ratio.\n",
    "            2. For the Glass transition temperature and Melting temperature, the format is xxxK or xxx°C.\n",
    "            3. Please note that Component_name and Composition_ratio need to correspond correctly, don't confuse component names with their ratio, it is very important.\n",
    "            4. There may be many different components in an article, so please don't leave them out and use multiple rows to express.\n",
    "            5. Don't output other irrelevant information, only the information required in the question.\n",
    "            \n",
    "            The table should have 7 columns:\n",
    "            |Copolymer name |Component_1_name|Component_2_name|Composition1_ratio|Composition2_ratio|Glass transition temperature|Melting temperature|\n",
    "\n",
    "            To help you understand the question, here are some examples:\n",
    "            Example 1:\n",
    "            Input:\"## Ethylene-vinyl alcohol copolymer\\n\\nPING XU\\n\\nACRONYMS,|\\n| Glass transitiontemperature | K | Dynamic viscoelasticity27 mol% vinyl alcohol, meltindex=3.0g/10min | 345 | (1) |\\n| Glass transitiontemperature | K | 32 mol% vinyl alcohol,meltindex=3.8g/10min | 342 |  |\\n| Glass transitiontemperature | K | 38 mol% vinyl alcohol,meltindex=3.8g/10min | 335 |  |\\n| Glass transitiontemperature | K | 44 mol% vinyl alcohol, meltindex=13.0g/10min | 328 |  |\\n| Melting point | K | DSC |  | (1) |\\n| Melting point | K | 27 mol% vinyl alcohol,meltindex=3.0g/10min | 464 | (1) |\\n| Melting point | K | 32 mol% vinyl alcohol,meltindex=3.8g/10min | 454 | (1) |\\n| Melting point | K | 38 mol% vinyl alcohol,meltindex=3.8g/10min | 448 |  |\\n| Melting point | K | 44 mol% vinyl alcohol, meltindex=13.0g/10min | 437 |  |\\n| Melting point | K |  |  | (1) |\\n| Tensile modulus | MPa | ASTM D63827 mol% vinyl alcohol,melt$\\\\infdex=3.0g/$10min | 3,138 | (1) |\\n|\"\n",
    "            \n",
    "            Output should be:|Copolymer name |Component_1_name|Component_2_name|Composition1_ratio|Composition2_ratio|Glass transition temperature|Melting temperature|\n",
    "                |Ethylene-vinyl alcohol copolymer|Ethylene|vinyl alcohol|73%|27%|345K|464K|\n",
    "                |Ethylene-vinyl alcohol copolymer|Ethylene|vinyl alcohol|68%|32%|342K|454K|\n",
    "                |Ethylene-vinyl alcohol copolymer|Ethylene|vinyl alcohol|62%|38%|335K|448K|\n",
    "                |Ethylene-vinyl alcohol copolymer|Ethylene|vinyl alcohol|56%|44%|328K|437K|\n",
    "\n",
    "            Example 2:\n",
    "            Input:\"Sheme 1 Synthesis of the p(ODA/HEAm) copolymers.\\n\\n### Table 1 Characterization of the p(ODA/HEAm) copolymers.\\n\\n\\n| Copolymer | MolarfeedratioODA:HEAm | ResultingmolarratioODA:HEAm | $M n ^ { b }$ | $M _ { w } / M _ { n } b )$ | $T _ { g }$$/ ^ { \\\\circ } C ^ { C } )$ | $T _ { M }$$/ ^ { \\\\circ } C ^ { C } )$ | d$/ n m$ |\\n| -- | -- | -- | -- | -- | -- | -- | -- |\\n| p(ODA10/HEAm90)a) | 10:90 | - | - | - | - | - | - |\\n| p(ODA40/HEAm60) | 30:70 | 36:64 | 7200 | 1.73 | 95.2 | 26.3 | - |\\n| p(ODA50/HEAm50) | 50:50 | 50:50 | 6600 | 2.15 | 104 | 22.7 | 3.7d),4.6e) |\\n| p(ODA60/HEAm40) | 60:40 | 64:36 | 16700 | 1.71 | 96.2 | 25.1 | 3.6d),4.4e) |\\n| p(ODA70/HEAm30) | 70:30 | 72:28 | 14200 | 1.79 | 92.1 | 29.5 | 3.3d) |\\n| p(ODA90/HEAm10) | 90:10 | 88:12 | 20700 | 1.72 | 82.4 | 30.8 | - |\\n\\n\\na) A gel was formed and further characterization was not carried out. b) Determined based on GPC measurements using polystyrene standards. c) Determined based on DSC measurements (Figure S4). d)\"\n",
    "            \n",
    "            Output should be:|Copolymer name |Component_1_name|Component_2_name|Composition1_ratio|Composition2_ratio|Glass transition temperature|Melting temperature|\n",
    "                |p(ODA40/HEAm60)|ODA|HEAm|36%|64%|95.2°C|26.3°C|\n",
    "                |p(ODA50/HEAm50)|ODA|HEAm|50%|50%|104°C|22.7°C| \n",
    "                |p(ODA60/HEAm40)|ODA|HEAm|64%|36%|96.2°C|25.1°C|\n",
    "                |p(ODA70/HEAm30)|ODA|HEAm|72%|28%|92.1°C|29.5°C|\n",
    "                |p(ODA90/HEAm10)|ODA|HEAm|88%|12%|82.4°C|30.8°C|\n",
    "\n",
    "            Example 3:\n",
    "            Input:\"### Table 1\\n\\n#### Characteristics of the initial PET, PETNI, and PETNT polymer discs\\n\\n\\n| Polyester | Composition\" | Composition\" | [n]b(dL$g^{-1})$ | $M_{n}c$$(gmol^{-1})$ | $M_{w}=$$(gmol^{-1})$ | $T_{g}^{d}(^{\\\\circ}C)$ | $T_{m}^{e}(^{\\\\circ}C)$ | $\\\\DeltaH_{m}e$$(Jg^{-1})$ |\\n| -- | -- | -- | -- | -- | -- | -- | -- | -- |\\n| Polyester | XT | XNI/NT | [n]b(dL$g^{-1})$ | $M_{n}c$$(gmol^{-1})$ | $M_{w}=$$(gmol^{-1})$ | $T_{g}^{d}(^{\\\\circ}C)$ | $T_{m}^{e}(^{\\\\circ}C)$ | $\\\\DeltaH_{m}e$$(Jg^{-1})$ |\\n| PET | 100 | 0 | 0.63 | 18,300 | 51,200 | 78 | 253 | 41 |\\n| $PET_{90}NI_{10}$$PET_{70}NI_{30}$ | 90.8 | 9.2 | 0.53 | 28,700 | 68,200 | 83 | 227 | 28 |\\n| $PET_{85}NT_{15}$ | 68.5 | 31.5 | 0.41 | 14,200 | 38,100 | 85 |  | - |\\n|  | 84.9 | 15.1 | 0.54 | 12,300 | 62,200 | 84 | 219 | 18 |\\n| PET70NT30 | 69.8 | 30.2 | 0.44 | 8900 | 42,400 | 83 | / | / |\\n\\n\\nDetermined by \\'H NMR(mol%).\\n\\nIntrinsic viscosity measured in dichloroacetic acid at 25°℃.\\n\\nNumber-average (Mn) and weight-average (Mw)molecular weights determined by GPC.\\n\\nd T\"    \n",
    "            \n",
    "            Output should be:|Copolymer name |Component_1_name|Component_2_name|Composition1_ratio|Composition2_ratio|Glass transition temperature|Melting temperature|\n",
    "                |PET90NI10|PET|NI|90.8%|9.2%|83°C|227°C|\n",
    "                |PET70NI30|PET|NI|68.5%|31.5%|85°C|Nan|\n",
    "                |PET85NT15|PET|NT|84.9%|15.1%|84°C|219°C|\n",
    "                |PET70NT30|PET|NT|69.8%|30.2%|83°C|Nan|\n",
    "\n",
    "\n",
    "            I hope these examples can help you understand the question better. Thank you very much, I hope you can do a good job! \n",
    "            A:\"\"\"\n",
    "     \n",
    "    client = OpenAI(api_key=api_key)\n",
    "    #client = OpenAI(api_key=api_key, base_url=\"https://api.siliconflow.cn/v1\")\n",
    "    #client = OpenAI(api_key=api_key, base_url=\"https://api.deepseek.com\")\n",
    "    max_retries = 3 \n",
    "    retry_wait = 60  \n",
    "    \n",
    "    for attempt in range(max_retries):\n",
    "        try:\n",
    "            print('get response......')\n",
    "            response = client.chat.completions.create(\n",
    "                            model='gpt-4o-2024-08-06',\n",
    "                            messages=[{\n",
    "                                \"role\": \"system\",\n",
    "                                \"content\": \"\"\"Answer the question as truthfully as possible using the provided context,\n",
    "                                            and if the answer is not contained within the text below, say \"Nan\" \"\"\"\n",
    "                            },\n",
    "                                {\"role\": \"user\", \"content\": user_heading + user_ending}]\n",
    "                        )\n",
    "            answer_str = response.choices[0].message.content\n",
    "            polymer_properties_list.append(answer_str)\n",
    "            print(f\"Paper {str(i).zfill(3)} processed successfully.\")\n",
    "            break\n",
    "        except Exception as e:\n",
    "            print(f\"Attempt {attempt + 1} failed: {e}\")\n",
    "            if attempt < max_retries - 1:  # Retry if not the last attempt\n",
    "                print(f\"Retrying in {retry_wait} seconds...\")\n",
    "                time.sleep(retry_wait)\n",
    "            else:\n",
    "                print(\"All attempts failed. Returning 'Nan'.\")\n",
    "                polymer_properties_list.append(\"Nan\")\n",
    "    "
   ]
  },
  {
   "cell_type": "code",
   "execution_count": null,
   "metadata": {},
   "outputs": [],
   "source": [
    "import pickle\n",
    "with open('polymer_properties_list_textin_gpt4o.pkl', 'wb') as f:\n",
    "    pickle.dump(polymer_properties_list, f)"
   ]
  },
  {
   "cell_type": "code",
   "execution_count": null,
   "metadata": {},
   "outputs": [],
   "source": [
    "# import pickle\n",
    "# with open('polymer_properties_list_textin_gpt4o.pkl', 'rb') as f:\n",
    "#     polymer_properties_list = pickle.load(f)"
   ]
  },
  {
   "cell_type": "code",
   "execution_count": 25,
   "metadata": {},
   "outputs": [],
   "source": [
    "# import io\n",
    "# import pandas as pd\n",
    "# all_dataframes = []\n",
    "# for index, answer_str in enumerate(polymer_properties_list, start=1):\n",
    "#     data_io = io.StringIO(answer_str)\n",
    "#     #df = pd.read_csv(data_io, sep='|', skipinitialspace=True)\n",
    "#     df = pd.read_csv(data_io, sep='|', skipinitialspace=True, on_bad_lines='warn')\n",
    "#     df.columns = df.columns.str.strip()\n",
    "#     df = df.dropna(how='all')\n",
    "#     df = df.reset_index(drop=True)\n",
    "#     df['ID'] = index\n",
    "#     all_dataframes.append(df)\n",
    "\n",
    "# combined_df = pd.concat(all_dataframes, ignore_index=True)\n",
    "import io\n",
    "import re\n",
    "import pandas as pd\n",
    "\n",
    "all_dataframes = []\n",
    "\n",
    "for index, answer_str in enumerate(polymer_properties_list, start=1):\n",
    "    # 提取连续的以'|'开头和结尾的表格部分\n",
    "    table_match = re.findall(r\"(?:(?:\\|.*?\\|\\s*\\n)+)\", answer_str)\n",
    "    if table_match:\n",
    "        table_str = table_match[0]\n",
    "        data_io = io.StringIO(table_str)\n",
    "        try:\n",
    "            df = pd.read_csv(data_io, sep='|', skipinitialspace=True, on_bad_lines='warn')\n",
    "            df.columns = df.columns.str.strip()\n",
    "            df = df.dropna(how='all')  # 删除全为空的行\n",
    "            df = df.reset_index(drop=True)\n",
    "            df['ID'] = index\n",
    "            all_dataframes.append(df)\n",
    "        except Exception as e:\n",
    "            print(f\"Error parsing entry {index}: {e}\")\n",
    "    else:\n",
    "        print(f\"No table found in entry {index}\")\n",
    "\n",
    "# 合并所有DataFrame\n",
    "combined_df = pd.concat(all_dataframes, ignore_index=True)\n"
   ]
  },
  {
   "cell_type": "code",
   "execution_count": 27,
   "metadata": {},
   "outputs": [],
   "source": [
    "columns_to_drop = ['Unnamed: 0','Unnamed: 8']\n",
    "combined_df = combined_df.drop(columns=columns_to_drop, errors='ignore')\n",
    "combined_df = combined_df[~combined_df.apply(lambda row: row.astype(str).str.contains('---').any(), axis=1)]\n",
    "df_cleaned = combined_df[~combined_df.apply(lambda row: row.astype(str).str.contains('--').any(), axis=1)]"
   ]
  },
  {
   "cell_type": "code",
   "execution_count": 29,
   "metadata": {},
   "outputs": [],
   "source": [
    "def convert_to_float(x):\n",
    "    try:\n",
    "        return float(str(x).replace('%', ''))\n",
    "    except ValueError:\n",
    "        return x\n",
    "df_cleaned['Composition1_ratio'] = df_cleaned['Composition1_ratio'].apply(convert_to_float)\n",
    "df_cleaned['Composition2_ratio'] = df_cleaned['Composition2_ratio'].apply(convert_to_float)"
   ]
  },
  {
   "cell_type": "code",
   "execution_count": 30,
   "metadata": {},
   "outputs": [],
   "source": [
    "def remove_temp_unit(x):\n",
    "    try:\n",
    "        if 'K' in str(x):\n",
    "            return float(str(x).replace('K', ''))\n",
    "        elif '°C' in str(x):\n",
    "            return float(str(x).replace('°C', ''))\n",
    "        else:\n",
    "            return x\n",
    "    except ValueError:\n",
    "        return x\n",
    "\n",
    "df_cleaned['Glass transition temperature'] = df_cleaned['Glass transition temperature'].apply(remove_temp_unit)\n",
    "df_cleaned['Melting temperature'] = df_cleaned['Melting temperature'].apply(remove_temp_unit)"
   ]
  },
  {
   "cell_type": "code",
   "execution_count": 31,
   "metadata": {},
   "outputs": [],
   "source": [
    "df_cleaned=df_cleaned.reset_index(drop=True)"
   ]
  },
  {
   "cell_type": "code",
   "execution_count": null,
   "metadata": {},
   "outputs": [],
   "source": [
    "df_cleaned.to_excel('copolymer_property_textin_gpt4o.xlsx', index=False)"
   ]
  }
 ],
 "metadata": {
  "kernelspec": {
   "display_name": "mygpt",
   "language": "python",
   "name": "python3"
  },
  "language_info": {
   "codemirror_mode": {
    "name": "ipython",
    "version": 3
   },
   "file_extension": ".py",
   "mimetype": "text/x-python",
   "name": "python",
   "nbconvert_exporter": "python",
   "pygments_lexer": "ipython3",
   "version": "3.9.19"
  }
 },
 "nbformat": 4,
 "nbformat_minor": 2
}
